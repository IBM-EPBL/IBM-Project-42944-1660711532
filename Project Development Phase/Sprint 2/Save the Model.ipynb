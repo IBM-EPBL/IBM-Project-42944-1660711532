{
  "nbformat": 4,
  "nbformat_minor": 0,
  "metadata": {
    "colab": {
      "provenance": []
    },
    "kernelspec": {
      "name": "python3",
      "display_name": "Python 3"
    },
    "language_info": {
      "name": "python"
    }
  },
  "cells": [
    {
      "cell_type": "code",
      "source": [
        "model.save('digit_classifier.h5')"
      ],
      "metadata": {
        "id": "GbqfPTV_kn9g"
      },
      "execution_count": null,
      "outputs": []
    }
  ]
}