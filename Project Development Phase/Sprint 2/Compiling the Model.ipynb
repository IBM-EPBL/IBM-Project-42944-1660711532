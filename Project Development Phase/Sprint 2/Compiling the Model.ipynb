{
  "nbformat": 4,
  "nbformat_minor": 0,
  "metadata": {
    "colab": {
      "provenance": []
    },
    "kernelspec": {
      "name": "python3",
      "display_name": "Python 3"
    },
    "language_info": {
      "name": "python"
    }
  },
  "cells": [
    {
      "cell_type": "code",
      "source": [
        "model.compile(loss=keras.losses.categorical_crossentropy,optimizer=keras.optimizers.\n",
        "Adadelta(),metrics=['accuracy'])"
      ],
      "metadata": {
        "id": "dxkXfHsKe4Hg"
      },
      "execution_count": null,
      "outputs": []
    }
  ]
}