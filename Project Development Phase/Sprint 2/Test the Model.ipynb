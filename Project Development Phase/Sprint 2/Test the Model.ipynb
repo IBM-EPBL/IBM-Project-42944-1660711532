{
  "nbformat": 4,
  "nbformat_minor": 0,
  "metadata": {
    "colab": {
      "provenance": []
    },
    "kernelspec": {
      "name": "python3",
      "display_name": "Python 3"
    },
    "language_info": {
      "name": "python"
    }
  },
  "cells": [
    {
      "cell_type": "code",
      "source": [
        "prediction = model.predict(x_test[:4])\n",
        "print(prediction)"
      ],
      "metadata": {
        "colab": {
          "base_uri": "https://localhost:8080/"
        },
        "id": "0ez9s8u6lXMM",
        "outputId": "5514924a-c802-43f7-c855-2f314d5e60bd"
      },
      "execution_count": null,
      "outputs": [
        {
          "output_type": "stream",
          "name": "stdout",
          "text": [
            "1/1 [==============================] - 0s 133ms/step\n",
            "[[1.1477944e-03 3.9627770e-04 6.5739750e-04 3.7265902e-03 1.5024790e-03\n",
            "  1.1654482e-03 7.4291012e-05 9.6970302e-01 3.9285333e-03 1.7698187e-02]\n",
            " [2.6084634e-02 5.0947694e-03 7.8582698e-01 4.0204726e-02 3.2807738e-04\n",
            "  4.3240108e-02 6.3738316e-02 3.0443924e-05 3.5161410e-02 2.9042509e-04]\n",
            " [2.4979028e-03 8.9516491e-01 1.6169021e-02 1.6002335e-02 5.7992581e-03\n",
            "  6.8738889e-03 1.5949246e-02 8.2469042e-03 2.2238648e-02 1.1057960e-02]\n",
            " [9.7418958e-01 9.3535518e-06 2.0537458e-03 1.7700817e-03 4.7914989e-04\n",
            "  4.1095372e-03 1.2282473e-02 1.5703022e-03 1.5671140e-03 1.9686106e-03]]\n"
          ]
        }
      ]
    }
  ]
}