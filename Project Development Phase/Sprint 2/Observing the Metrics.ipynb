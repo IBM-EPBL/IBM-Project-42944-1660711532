{
  "nbformat": 4,
  "nbformat_minor": 0,
  "metadata": {
    "colab": {
      "provenance": []
    },
    "kernelspec": {
      "name": "python3",
      "display_name": "Python 3"
    },
    "language_info": {
      "name": "python"
    }
  },
  "cells": [
    {
      "cell_type": "code",
      "source": [
        "metrics = model.evaluate(x_test, y_test, verbose=0)\n",
        "print(\"Metrics(Loss and Accuracy):\")\n",
        "print(metrics)"
      ],
      "metadata": {
        "colab": {
          "base_uri": "https://localhost:8080/"
        },
        "id": "_HP8dNH3e57O",
        "outputId": "fc4bc1c7-f178-4948-f7ce-9d78aaf45e9f"
      },
      "execution_count": null,
      "outputs": [
        {
          "output_type": "stream",
          "name": "stdout",
          "text": [
            "Metrics(Loss and Accuracy):\n",
            "[0.49268120527267456, 0.8725000023841858]\n"
          ]
        }
      ]
    }
  ]
}