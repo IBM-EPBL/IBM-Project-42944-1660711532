{
  "nbformat": 4,
  "nbformat_minor": 0,
  "metadata": {
    "colab": {
      "provenance": []
    },
    "kernelspec": {
      "name": "python3",
      "display_name": "Python 3"
    },
    "language_info": {
      "name": "python"
    }
  },
  "cells": [
    {
      "cell_type": "code",
      "source": [
        "prediction = model.predict(x_test[5:9])\n",
        "print(prediction)"
      ],
      "metadata": {
        "colab": {
          "base_uri": "https://localhost:8080/"
        },
        "id": "KB3S3WQTmJij",
        "outputId": "9f94a4f1-b899-42c3-e592-e98463368c73"
      },
      "execution_count": null,
      "outputs": [
        {
          "output_type": "stream",
          "name": "stdout",
          "text": [
            "1/1 [==============================] - 0s 67ms/step\n",
            "[[5.2167638e-04 9.4386947e-01 6.1334292e-03 9.6846540e-03 2.8181665e-03\n",
            "  2.7776612e-03 2.6319316e-03 7.3146559e-03 1.3994858e-02 1.0253430e-02]\n",
            " [1.1864605e-03 2.1236928e-03 3.3130099e-03 1.5164095e-02 6.1122847e-01\n",
            "  4.9455237e-02 1.9846398e-03 1.3374335e-01 8.0412030e-02 1.0138894e-01]\n",
            " [2.2986294e-03 6.5613324e-03 1.8402554e-02 2.4705857e-02 2.5116622e-01\n",
            "  7.8676999e-02 3.9268121e-02 1.5289889e-02 4.1895915e-02 5.2173448e-01]\n",
            " [7.3134229e-02 2.7280771e-03 1.3534422e-01 9.3391124e-04 3.3017877e-01\n",
            "  2.5295436e-01 1.3273676e-01 1.8728668e-03 4.4130538e-02 2.5986329e-02]]\n"
          ]
        }
      ]
    }
  ]
}