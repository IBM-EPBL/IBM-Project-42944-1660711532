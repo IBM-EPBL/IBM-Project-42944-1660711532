{
  "nbformat": 4,
  "nbformat_minor": 0,
  "metadata": {
    "colab": {
      "provenance": []
    },
    "kernelspec": {
      "name": "python3",
      "display_name": "Python 3"
    },
    "language_info": {
      "name": "python"
    }
  },
  "cells": [
    {
      "cell_type": "code",
      "source": [
        "from keras.utils.image_utils import img_to_array\n",
        "from tensorflow.keras.models import load_model\n",
        "model = load_model('/content/digit_classifier.h5')\n",
        "from PIL import Image\n",
        "import numpy as np\n",
        "\n",
        "img = Image.open('/content/sample.png').convert(\"L\")\n",
        "img = img.resize((28,28))\n",
        "im2arr = np.array(img)\n",
        "im2arr = im2arr.reshape(1,28,28,1)\n",
        "\n",
        "#display the image\n",
        "import matplotlib.pyplot as plt\n",
        "plt.imshow(img)\n",
        "\n",
        "#predict the image\n",
        "y_predict = model.predict(im2arr)\n",
        "print(np.argmax(y_predict[0]))"
      ],
      "metadata": {
        "colab": {
          "base_uri": "https://localhost:8080/",
          "height": 300
        },
        "id": "gjzxHyL6tEMw",
        "outputId": "7f3fee2f-7af5-4fae-b303-81c1c551d527"
      },
      "execution_count": null,
      "outputs": [
        {
          "output_type": "stream",
          "name": "stdout",
          "text": [
            "1/1 [==============================] - 0s 64ms/step\n",
            "2\n"
          ]
        },
        {
          "output_type": "display_data",
          "data": {
            "text/plain": [
              "<Figure size 432x288 with 1 Axes>"
            ],
            "image/png": "[encoded data removed]"
          },
          "metadata": {
            "needs_background": "light"
          }
        }
      ]
    }
  ]
}