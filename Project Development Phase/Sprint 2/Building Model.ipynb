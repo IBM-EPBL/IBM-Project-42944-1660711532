{
  "cells": [
    {
      "cell_type": "markdown",
      "source": [
        "**ADDING LAYERS**"
      ],
      "metadata": {
        "id": "5TrKWpvaeyz-"
      }
    },
    {
      "cell_type": "code",
      "source": [
        "#Create the Model\n",
        "batch_size=128\n",
        "num_classes=10\n",
        "epochs=20\n",
        "model = Sequential()\n",
        "model.add(Conv2D(32, kernel_size=(3,3),activation='relu',input_shape=input_shape))\n",
        "model.add(Conv2D(64,(3,3),activation='relu'))\n",
        "model.add(MaxPooling2D(pool_size=(2,2)))\n",
        "model.add(Dropout(0.25))\n",
        "model.add(Flatten())\n",
        "model.add(Dense(256,activation='relu'))\n",
        "model.add(Dropout(0.5))\n",
        "model.add(Dense(num_classes,activation='softmax'))"
      ],
      "metadata": {
        "id": "5w-ZUHPWelFq"
      },
      "execution_count": 7,
      "outputs": []
    },
    {
      "cell_type": "markdown",
      "source": [
        "**COMPILING THE MODEL**"
      ],
      "metadata": {
        "id": "fPolC5xZe3mp"
      }
    },
    {
      "cell_type": "code",
      "source": [
        "model.compile(loss=keras.losses.categorical_crossentropy,optimizer=keras.optimizers.\n",
        "Adadelta(),metrics=['accuracy'])"
      ],
      "metadata": {
        "id": "dxkXfHsKe4Hg"
      },
      "execution_count": 8,
      "outputs": []
    },
    {
      "cell_type": "markdown",
      "source": [
        "**TRAIN THE MODEL**"
      ],
      "metadata": {
        "id": "UFb8Bni3e4ql"
      }
    },
    {
      "cell_type": "code",
      "source": [
        "hist = model.fit(x_train, y_train,batch_size=20,epochs=5,verbose=1,validation_data=(x_test, y_test))"
      ],
      "metadata": {
        "colab": {
          "base_uri": "https://localhost:8080/"
        },
        "id": "nJ4SC3qge5Nj",
        "outputId": "6664580c-c0f5-4cc5-cd42-581297602981"
      },
      "execution_count": 9,
      "outputs": [
        {
          "output_type": "stream",
          "name": "stdout",
          "text": [
            "Epoch 1/5\n",
            "3000/3000 [==============================] - 222s 74ms/step - loss: 2.1164 - accuracy: 0.3663 - val_loss: 1.8413 - val_accuracy: 0.7507\n",
            "Epoch 2/5\n",
            "3000/3000 [==============================] - 224s 75ms/step - loss: 1.5903 - accuracy: 0.6344 - val_loss: 1.1741 - val_accuracy: 0.8070\n",
            "Epoch 3/5\n",
            "3000/3000 [==============================] - 225s 75ms/step - loss: 1.0870 - accuracy: 0.7115 - val_loss: 0.7595 - val_accuracy: 0.8371\n",
            "Epoch 4/5\n",
            "3000/3000 [==============================] - 217s 72ms/step - loss: 0.8326 - accuracy: 0.7577 - val_loss: 0.5807 - val_accuracy: 0.8606\n",
            "Epoch 5/5\n",
            "3000/3000 [==============================] - 218s 73ms/step - loss: 0.7034 - accuracy: 0.7856 - val_loss: 0.4927 - val_accuracy: 0.8725\n"
          ]
        }
      ]
    },
    {
      "cell_type": "markdown",
      "source": [
        "**OBSERVING THE METRICS**"
      ],
      "metadata": {
        "id": "Ypd6Ey9Be5hl"
      }
    },
    {
      "cell_type": "code",
      "source": [
        "metrics = model.evaluate(x_test, y_test, verbose=0)\n",
        "print(\"Metrics(Loss and Accuracy):\")\n",
        "print(metrics)"
      ],
      "metadata": {
        "colab": {
          "base_uri": "https://localhost:8080/"
        },
        "id": "_HP8dNH3e57O",
        "outputId": "fc4bc1c7-f178-4948-f7ce-9d78aaf45e9f"
      },
      "execution_count": 10,
      "outputs": [
        {
          "output_type": "stream",
          "name": "stdout",
          "text": [
            "Metrics(Loss and Accuracy):\n",
            "[0.49268120527267456, 0.8725000023841858]\n"
          ]
        }
      ]
    },
    {
      "cell_type": "markdown",
      "source": [
        "**TEST THE MODEL**"
      ],
      "metadata": {
        "id": "pTcHfpXjlrUw"
      }
    },
    {
      "cell_type": "code",
      "source": [
        "prediction = model.predict(x_test[:4])\n",
        "print(prediction)"
      ],
      "metadata": {
        "colab": {
          "base_uri": "https://localhost:8080/"
        },
        "id": "0ez9s8u6lXMM",
        "outputId": "5514924a-c802-43f7-c855-2f314d5e60bd"
      },
      "execution_count": 11,
      "outputs": [
        {
          "output_type": "stream",
          "name": "stdout",
          "text": [
            "1/1 [==============================] - 0s 133ms/step\n",
            "[[1.1477944e-03 3.9627770e-04 6.5739750e-04 3.7265902e-03 1.5024790e-03\n",
            "  1.1654482e-03 7.4291012e-05 9.6970302e-01 3.9285333e-03 1.7698187e-02]\n",
            " [2.6084634e-02 5.0947694e-03 7.8582698e-01 4.0204726e-02 3.2807738e-04\n",
            "  4.3240108e-02 6.3738316e-02 3.0443924e-05 3.5161410e-02 2.9042509e-04]\n",
            " [2.4979028e-03 8.9516491e-01 1.6169021e-02 1.6002335e-02 5.7992581e-03\n",
            "  6.8738889e-03 1.5949246e-02 8.2469042e-03 2.2238648e-02 1.1057960e-02]\n",
            " [9.7418958e-01 9.3535518e-06 2.0537458e-03 1.7700817e-03 4.7914989e-04\n",
            "  4.1095372e-03 1.2282473e-02 1.5703022e-03 1.5671140e-03 1.9686106e-03]]\n"
          ]
        }
      ]
    },
    {
      "cell_type": "markdown",
      "source": [
        "**OBSERVE THE METRICS**"
      ],
      "metadata": {
        "id": "MR-7Hc3vlxZE"
      }
    },
    {
      "cell_type": "code",
      "source": [
        "metrics = model.evaluate(x_test, y_test, verbose=0)\n",
        "print(\"Metrics(Loss and Accuracy):\")\n",
        "print(metrics)"
      ],
      "metadata": {
        "colab": {
          "base_uri": "https://localhost:8080/"
        },
        "id": "Tq2GAz5tl1ng",
        "outputId": "da64eac5-1c5e-437c-d1bf-aa15d06f3aa5"
      },
      "execution_count": null,
      "outputs": [
        {
          "output_type": "stream",
          "name": "stdout",
          "text": [
            "Metrics(Loss and Accuracy):\n",
            "[0.4834834933280945, 0.8723000288009644]\n"
          ]
        }
      ]
    },
    {
      "cell_type": "markdown",
      "source": [
        "**TEST THE MODEL**"
      ],
      "metadata": {
        "id": "YKt_xBiwmXjo"
      }
    },
    {
      "cell_type": "code",
      "source": [
        "prediction = model.predict(x_test[5:9])\n",
        "print(prediction)"
      ],
      "metadata": {
        "colab": {
          "base_uri": "https://localhost:8080/"
        },
        "id": "KB3S3WQTmJij",
        "outputId": "dbbbf8ae-1662-4da0-bda2-48cd15153ca6"
      },
      "execution_count": null,
      "outputs": [
        {
          "output_type": "stream",
          "name": "stdout",
          "text": [
            "1/1 [==============================] - 0s 26ms/step\n",
            "[[3.6435243e-04 9.6536148e-01 4.2786165e-03 6.9661601e-03 2.0391592e-03\n",
            "  1.3002200e-03 2.1129171e-03 5.6471578e-03 9.3039544e-03 2.6260219e-03]\n",
            " [1.1333114e-03 7.5625849e-04 1.6823078e-03 1.2103345e-02 7.0017499e-01\n",
            "  2.7238857e-02 2.0240447e-03 1.1637065e-01 4.4601355e-02 9.3914911e-02]\n",
            " [1.1626795e-03 9.3995482e-03 1.0551595e-02 1.6526703e-02 1.3502070e-01\n",
            "  5.4379899e-02 6.2032305e-02 2.1195536e-02 3.1693760e-02 6.5803730e-01]\n",
            " [7.2648428e-02 6.0309325e-03 1.5680161e-01 1.7962058e-03 2.5634676e-01\n",
            "  3.1454784e-01 1.4505860e-01 1.8920887e-03 2.7476249e-02 1.7401423e-02]]\n"
          ]
        }
      ]
    },
    {
      "cell_type": "markdown",
      "source": [
        "**SAVE THE MODEL**"
      ],
      "metadata": {
        "id": "xc49Q0Obkkel"
      }
    },
    {
      "cell_type": "code",
      "source": [
        "model.save('digit_classifier.h5')"
      ],
      "metadata": {
        "id": "GbqfPTV_kn9g"
      },
      "execution_count": 12,
      "outputs": []
    },
    {
      "cell_type": "markdown",
      "source": [
        "**TEST WITH SAVED MODEL**"
      ],
      "metadata": {
        "id": "s0CuAnuHmxYd"
      }
    },
    {
      "cell_type": "code",
      "source": [
        "from keras.utils.image_utils import img_to_array\n",
        "from tensorflow.keras.models import load_model\n",
        "model = load_model('/content/digit_classifier.h5')\n",
        "from PIL import Image\n",
        "import numpy as np\n",
        "\n",
        "img = Image.open('/content/sample.png').convert(\"L\")\n",
        "img = img.resize((28,28))\n",
        "im2arr = np.array(img)\n",
        "im2arr = im2arr.reshape(1,28,28,1)\n",
        "\n",
        "#display the image\n",
        "import matplotlib.pyplot as plt\n",
        "plt.imshow(img)\n",
        "\n",
        "#predict the image\n",
        "y_predict = model.predict(im2arr)\n",
        "print(np.argmax(y_predict[0]))"
      ],
      "metadata": {
        "colab": {
          "base_uri": "https://localhost:8080/",
          "height": 300
        },
        "id": "gjzxHyL6tEMw",
        "outputId": "7f3fee2f-7af5-4fae-b303-81c1c551d527"
      },
      "execution_count": 38,
      "outputs": [
        {
          "output_type": "stream",
          "name": "stdout",
          "text": [
            "1/1 [==============================] - 0s 64ms/step\n",
            "2\n"
          ]
        },
        {
          "output_type": "display_data",
          "data": {
            "text/plain": [
              "<Figure size 432x288 with 1 Axes>"
            ],
            "image/png": "[encoded data removed]"
          },
          "metadata": {
            "needs_background": "light"
          }
        }
      ]
    }
  ],
  "metadata": {
    "colab": {
      "collapsed_sections": [],
      "provenance": []
    },
    "kernelspec": {
      "display_name": "Python 3",
      "name": "python3"
    }
  },
  "nbformat": 4,
  "nbformat_minor": 0
}