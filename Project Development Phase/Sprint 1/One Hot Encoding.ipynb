{
  "nbformat": 4,
  "nbformat_minor": 0,
  "metadata": {
    "colab": {
      "provenance": []
    },
    "kernelspec": {
      "name": "python3",
      "display_name": "Python 3"
    },
    "language_info": {
      "name": "python"
    }
  },
  "cells": [
    {
      "cell_type": "code",
      "source": [
        "#Convert class vectors to binary class matrices\n",
        "y_train=keras.utils.to_categorical(y_train,num_classes)\n",
        "y_test=keras.utils.to_categorical(y_test,num_classes)\n",
        "x_train=x_train.astype('float32')\n",
        "x_test=x_test.astype('float32')\n",
        "x_train=x_train/255\n",
        "x_test=x_test/255\n",
        "print('x_train shape:',x_train.shape)\n",
        "print(x_train.shape[0],'train samples')\n"
      ],
      "metadata": {
        "id": "Piaclc0eU8NF",
        "outputId": "aa577883-0c69-450f-90ed-da48f1e516cb",
        "colab": {
          "base_uri": "https://localhost:8080/"
        }
      },
      "execution_count": null,
      "outputs": [
        {
          "output_type": "stream",
          "name": "stdout",
          "text": [
            "x_train shape: (60000, 28, 28, 1)\n",
            "60000 train samples\n"
          ]
        }
      ]
    }
  ]
}