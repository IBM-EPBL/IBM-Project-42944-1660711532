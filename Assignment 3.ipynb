{
 "cells": [
  {
   "cell_type": "code",
   "execution_count": 1,
   "id": "0140b2f6-8fb4-4af2-b7a5-73d39daaff26",
   "metadata": {},
   "outputs": [],
   "source": [
    "from tensorflow.keras.models import Sequential\n",
    "from tensorflow.keras.layers import Dense"
   ]
  },
  {
   "cell_type": "code",
   "execution_count": 2,
   "id": "bb7292a1-46ce-4a72-befd-b68f4fadf8da",
   "metadata": {},
   "outputs": [],
   "source": [
    "from tensorflow.keras.layers import Convolution2D\n",
    "from tensorflow.keras.layers import MaxPooling2D\n",
    "from tensorflow.keras.layers import Flatten"
   ]
  },
  {
   "cell_type": "code",
   "execution_count": 51,
   "id": "7354b80e-59b5-4ef7-a237-3455a102aa3b",
   "metadata": {},
   "outputs": [],
   "source": [
    "from tensorflow.keras.preprocessing.image import ImageDataGenerator\n",
    "#Image Augmentation"
   ]
  },
  {
   "cell_type": "code",
   "execution_count": 4,
   "id": "8ff097ef-eb74-4c7b-bf64-3638af807100",
   "metadata": {},
   "outputs": [],
   "source": [
    "train_datagen=ImageDataGenerator(rescale=1./255,shear_range=0.2,zoom_range=0.2,horizontal_flip=True,vertical_flip=True)"
   ]
  },
  {
   "cell_type": "code",
   "execution_count": 5,
   "id": "e7a75758-07f1-46bc-8a76-2bf8bb72a20d",
   "metadata": {},
   "outputs": [],
   "source": [
    "test_datagen=ImageDataGenerator(rescale=1./255)"
   ]
  },
  {
   "cell_type": "code",
   "execution_count": 6,
   "id": "9ede6565-67d9-4252-b310-25ee0908cf2f",
   "metadata": {},
   "outputs": [
    {
     "name": "stdout",
     "output_type": "stream",
     "text": [
      "Found 4317 images belonging to 5 classes.\n"
     ]
    }
   ],
   "source": [
    "x_train=train_datagen.flow_from_directory(r\"V:\\IBM assignment\\flowers\\training\",target_size=(64,64),batch_size=32,class_mode=\"categorical\")"
   ]
  },
  {
   "cell_type": "code",
   "execution_count": 7,
   "id": "60aa7d16-ecf7-4448-a01a-c19fa5d76c09",
   "metadata": {},
   "outputs": [
    {
     "name": "stdout",
     "output_type": "stream",
     "text": [
      "Found 4317 images belonging to 5 classes.\n"
     ]
    }
   ],
   "source": [
    "x_test=test_datagen.flow_from_directory(r\"V:\\IBM assignment\\flowers\\testing\",target_size=(64,64),batch_size=32,class_mode=\"categorical\")"
   ]
  },
  {
   "cell_type": "code",
   "execution_count": 8,
   "id": "a7da6b27-960b-4942-85d7-fc816a4fbc74",
   "metadata": {},
   "outputs": [
    {
     "data": {
      "text/plain": [
       "{'daisy': 0, 'dandelion': 1, 'rose': 2, 'sunflower': 3, 'tulip': 4}"
      ]
     },
     "execution_count": 8,
     "metadata": {},
     "output_type": "execute_result"
    }
   ],
   "source": [
    "x_train.class_indices"
   ]
  },
  {
   "cell_type": "code",
   "execution_count": 52,
   "id": "fe17aafd-085d-48fc-844b-016d9262cf2d",
   "metadata": {},
   "outputs": [],
   "source": [
    "#Create Model\n",
    "model=Sequential()"
   ]
  },
  {
   "cell_type": "code",
   "execution_count": 53,
   "id": "f7050ba9-97eb-4a0d-aa75-150ccc7863a9",
   "metadata": {},
   "outputs": [],
   "source": [
    "#Convolution Layer\n",
    "model.add(Convolution2D(32,(3,3),input_shape=(64,64,3),activation='relu'))"
   ]
  },
  {
   "cell_type": "code",
   "execution_count": 54,
   "id": "f10fdaed-b5d9-4fce-870d-862290c3da73",
   "metadata": {},
   "outputs": [],
   "source": [
    "#Maxpooling Layer\n",
    "model.add(MaxPooling2D(pool_size=(2,2)))"
   ]
  },
  {
   "cell_type": "code",
   "execution_count": 55,
   "id": "ed09e312-f57f-471c-8779-ac73ebe8b3ea",
   "metadata": {},
   "outputs": [],
   "source": [
    "#Flatten or input Layer\n",
    "model.add(Flatten())"
   ]
  },
  {
   "cell_type": "code",
   "execution_count": 56,
   "id": "fbe586a1-57ac-4743-bb87-e161bd43b567",
   "metadata": {},
   "outputs": [],
   "source": [
    "#Dense or Hidden Layer\n",
    "model.add(Dense(units=300,kernel_initializer=\"random_uniform\",activation=\"relu\"))"
   ]
  },
  {
   "cell_type": "code",
   "execution_count": 14,
   "id": "d38aaadb-b1ee-4060-9c37-d42ae25b80f9",
   "metadata": {},
   "outputs": [],
   "source": [
    "model.add(Dense(units=100,kernel_initializer=\"random_uniform\",activation=\"relu\"))"
   ]
  },
  {
   "cell_type": "code",
   "execution_count": 57,
   "id": "94788cb2-e18e-4176-b7fd-cb4bd5b750d7",
   "metadata": {},
   "outputs": [],
   "source": [
    "#Output Layer\n",
    "model.add(Dense(units=5,kernel_initializer=\"random_uniform\",activation=\"softmax\"))"
   ]
  },
  {
   "cell_type": "code",
   "execution_count": 58,
   "id": "336a8d9b-7d07-46dd-afe9-2f6011627bb3",
   "metadata": {},
   "outputs": [],
   "source": [
    "#Compile The Model\n",
    "model.compile(loss=\"categorical_crossentropy\",optimizer=\"adam\",metrics=[\"accuracy\"])"
   ]
  },
  {
   "cell_type": "code",
   "execution_count": null,
   "id": "40bd4f11-8009-45c7-b458-abd64434a8f6",
   "metadata": {},
   "outputs": [],
   "source": [
    "#Fit The Model"
   ]
  },
  {
   "cell_type": "code",
   "execution_count": 17,
   "id": "bb93b4d5-f890-435b-83fd-b5ad29950c9d",
   "metadata": {},
   "outputs": [
    {
     "name": "stderr",
     "output_type": "stream",
     "text": [
      "C:\\Users\\MANI DUKE\\AppData\\Local\\Temp\\ipykernel_8400\\1791809438.py:1: UserWarning: `Model.fit_generator` is deprecated and will be removed in a future version. Please use `Model.fit`, which supports generators.\n",
      "  model.fit_generator(x_train,steps_per_epoch=135,epochs=30,validation_data=x_test,validation_steps=135)\n"
     ]
    },
    {
     "name": "stdout",
     "output_type": "stream",
     "text": [
      "Epoch 1/30\n",
      "135/135 [==============================] - 109s 790ms/step - loss: 1.3480 - accuracy: 0.3894 - val_loss: 1.1645 - val_accuracy: 0.5045\n",
      "Epoch 2/30\n",
      "135/135 [==============================] - 104s 771ms/step - loss: 1.1502 - accuracy: 0.5117 - val_loss: 1.1090 - val_accuracy: 0.5464\n",
      "Epoch 3/30\n",
      "135/135 [==============================] - 104s 769ms/step - loss: 1.0790 - accuracy: 0.5601 - val_loss: 1.0689 - val_accuracy: 0.5606\n",
      "Epoch 4/30\n",
      "135/135 [==============================] - 100s 743ms/step - loss: 1.0099 - accuracy: 0.5944 - val_loss: 1.1086 - val_accuracy: 0.5580\n",
      "Epoch 5/30\n",
      "135/135 [==============================] - 102s 756ms/step - loss: 0.9751 - accuracy: 0.6095 - val_loss: 0.9730 - val_accuracy: 0.6152\n",
      "Epoch 6/30\n",
      "135/135 [==============================] - 108s 800ms/step - loss: 0.9192 - accuracy: 0.6361 - val_loss: 1.0419 - val_accuracy: 0.6048\n",
      "Epoch 7/30\n",
      "135/135 [==============================] - 100s 741ms/step - loss: 0.8793 - accuracy: 0.6521 - val_loss: 0.8656 - val_accuracy: 0.6521\n",
      "Epoch 8/30\n",
      "135/135 [==============================] - 100s 738ms/step - loss: 0.8493 - accuracy: 0.6667 - val_loss: 0.8032 - val_accuracy: 0.6882\n",
      "Epoch 9/30\n",
      "135/135 [==============================] - 99s 736ms/step - loss: 0.8235 - accuracy: 0.6813 - val_loss: 0.8077 - val_accuracy: 0.6873\n",
      "Epoch 10/30\n",
      "135/135 [==============================] - 101s 751ms/step - loss: 0.8036 - accuracy: 0.6847 - val_loss: 0.8149 - val_accuracy: 0.6908\n",
      "Epoch 11/30\n",
      "135/135 [==============================] - 93s 690ms/step - loss: 0.7762 - accuracy: 0.7019 - val_loss: 0.7078 - val_accuracy: 0.7318\n",
      "Epoch 12/30\n",
      "135/135 [==============================] - 94s 693ms/step - loss: 0.7563 - accuracy: 0.7070 - val_loss: 0.7734 - val_accuracy: 0.6968\n",
      "Epoch 13/30\n",
      "135/135 [==============================] - 93s 692ms/step - loss: 0.7420 - accuracy: 0.7142 - val_loss: 0.7444 - val_accuracy: 0.7091\n",
      "Epoch 14/30\n",
      "135/135 [==============================] - 103s 763ms/step - loss: 0.6952 - accuracy: 0.7364 - val_loss: 0.6455 - val_accuracy: 0.7496\n",
      "Epoch 15/30\n",
      "135/135 [==============================] - 101s 746ms/step - loss: 0.6854 - accuracy: 0.7369 - val_loss: 0.5916 - val_accuracy: 0.7697\n",
      "Epoch 16/30\n",
      "135/135 [==============================] - 123s 911ms/step - loss: 0.6625 - accuracy: 0.7445 - val_loss: 0.6020 - val_accuracy: 0.7656\n",
      "Epoch 17/30\n",
      "135/135 [==============================] - 134s 986ms/step - loss: 0.6327 - accuracy: 0.7616 - val_loss: 0.5841 - val_accuracy: 0.7776\n",
      "Epoch 18/30\n",
      "135/135 [==============================] - 118s 878ms/step - loss: 0.6265 - accuracy: 0.7630 - val_loss: 0.5776 - val_accuracy: 0.7834\n",
      "Epoch 19/30\n",
      "135/135 [==============================] - 145s 1s/step - loss: 0.6182 - accuracy: 0.7651 - val_loss: 0.5834 - val_accuracy: 0.7672\n",
      "Epoch 20/30\n",
      "135/135 [==============================] - 202s 1s/step - loss: 0.5881 - accuracy: 0.7748 - val_loss: 0.5222 - val_accuracy: 0.8017\n",
      "Epoch 21/30\n",
      "135/135 [==============================] - 250s 2s/step - loss: 0.5766 - accuracy: 0.7767 - val_loss: 0.5391 - val_accuracy: 0.7968\n",
      "Epoch 22/30\n",
      "135/135 [==============================] - 124s 913ms/step - loss: 0.5461 - accuracy: 0.7899 - val_loss: 0.5362 - val_accuracy: 0.8024\n",
      "Epoch 23/30\n",
      "135/135 [==============================] - 102s 759ms/step - loss: 0.5343 - accuracy: 0.7999 - val_loss: 0.4658 - val_accuracy: 0.8274\n",
      "Epoch 24/30\n",
      "135/135 [==============================] - 101s 750ms/step - loss: 0.5337 - accuracy: 0.7980 - val_loss: 0.5928 - val_accuracy: 0.7802\n",
      "Epoch 25/30\n",
      "135/135 [==============================] - 104s 769ms/step - loss: 0.5205 - accuracy: 0.8050 - val_loss: 0.4628 - val_accuracy: 0.8253\n",
      "Epoch 26/30\n",
      "135/135 [==============================] - 102s 756ms/step - loss: 0.4847 - accuracy: 0.8193 - val_loss: 0.4900 - val_accuracy: 0.8131\n",
      "Epoch 27/30\n",
      "135/135 [==============================] - 102s 754ms/step - loss: 0.4852 - accuracy: 0.8119 - val_loss: 0.5954 - val_accuracy: 0.7672\n",
      "Epoch 28/30\n",
      "135/135 [==============================] - 103s 763ms/step - loss: 0.4694 - accuracy: 0.8242 - val_loss: 0.4139 - val_accuracy: 0.8416\n",
      "Epoch 29/30\n",
      "135/135 [==============================] - 104s 771ms/step - loss: 0.4487 - accuracy: 0.8286 - val_loss: 0.3992 - val_accuracy: 0.8520\n",
      "Epoch 30/30\n",
      "135/135 [==============================] - 113s 839ms/step - loss: 0.4327 - accuracy: 0.8390 - val_loss: 0.4333 - val_accuracy: 0.8390\n"
     ]
    },
    {
     "data": {
      "text/plain": [
       "<keras.callbacks.History at 0x240a085c340>"
      ]
     },
     "execution_count": 17,
     "metadata": {},
     "output_type": "execute_result"
    }
   ],
   "source": [
    "model.fit_generator(x_train,steps_per_epoch=135,epochs=30,validation_data=x_test,validation_steps=135)"
   ]
  },
  {
   "cell_type": "code",
   "execution_count": 59,
   "id": "4d559825-9f0b-4d91-9c42-541ce17d4473",
   "metadata": {},
   "outputs": [],
   "source": [
    "#Save The Model\n",
    "model.save(\"flower.h5\")"
   ]
  },
  {
   "cell_type": "code",
   "execution_count": 20,
   "id": "2b519125-5e5d-4fe0-9d9a-97684e04645c",
   "metadata": {},
   "outputs": [],
   "source": [
    "from tensorflow.keras.models import load_model"
   ]
  },
  {
   "cell_type": "code",
   "execution_count": 21,
   "id": "eb1ffeca-a964-4626-a303-5dc70f68b104",
   "metadata": {},
   "outputs": [],
   "source": [
    "from tensorflow.keras.preprocessing import image"
   ]
  },
  {
   "cell_type": "code",
   "execution_count": 22,
   "id": "87c3a39f-52e9-4e36-b277-dc612b08d485",
   "metadata": {},
   "outputs": [],
   "source": [
    "import numpy as np"
   ]
  },
  {
   "cell_type": "code",
   "execution_count": 23,
   "id": "4c6abf8b-6b7d-4f3c-bee9-c2f15fc11872",
   "metadata": {},
   "outputs": [],
   "source": [
    "model1=load_model(\"flower.h5\")"
   ]
  },
  {
   "cell_type": "code",
   "execution_count": 38,
   "id": "89266231-38cc-45e9-90b3-5e3bec9d5ce7",
   "metadata": {},
   "outputs": [],
   "source": [
    "img=image.load_img(r\"V:\\sunflower.jpg\",target_size=(64,64))"
   ]
  },
  {
   "cell_type": "code",
   "execution_count": 39,
   "id": "3873cd07-2fe2-4cb2-a7d7-600fe0c96c49",
   "metadata": {},
   "outputs": [
    {
     "data": {
      "image/png": "[encoded data removed]",
      "text/plain": [
       "<PIL.Image.Image image mode=RGB size=64x64 at 0x240A51A0D90>"
      ]
     },
     "execution_count": 39,
     "metadata": {},
     "output_type": "execute_result"
    }
   ],
   "source": [
    "img"
   ]
  },
  {
   "cell_type": "code",
   "execution_count": 50,
   "id": "b45b3ae4-436e-4a0f-a892-05097372fca9",
   "metadata": {},
   "outputs": [],
   "source": [
    "#Test The Model\n",
    "x=image.img_to_array(img)"
   ]
  },
  {
   "cell_type": "code",
   "execution_count": 41,
   "id": "587961ff-bccc-47e0-8c0e-50fc8b17a428",
   "metadata": {},
   "outputs": [
    {
     "data": {
      "text/plain": [
       "(64, 64, 3)"
      ]
     },
     "execution_count": 41,
     "metadata": {},
     "output_type": "execute_result"
    }
   ],
   "source": [
    "x.shape"
   ]
  },
  {
   "cell_type": "code",
   "execution_count": 42,
   "id": "17ec77e4-be13-4c04-b166-89950d6a65f6",
   "metadata": {},
   "outputs": [
    {
     "data": {
      "text/plain": [
       "(1, 64, 64, 3)"
      ]
     },
     "execution_count": 42,
     "metadata": {},
     "output_type": "execute_result"
    }
   ],
   "source": [
    "x=np.expand_dims(x,axis=0)\n",
    "x.shape"
   ]
  },
  {
   "cell_type": "code",
   "execution_count": 43,
   "id": "1881156a-718e-4acb-9090-77f9cc944156",
   "metadata": {},
   "outputs": [
    {
     "name": "stdout",
     "output_type": "stream",
     "text": [
      "1/1 [==============================] - 0s 125ms/step\n"
     ]
    }
   ],
   "source": [
    "pred=model1.predict(x)"
   ]
  },
  {
   "cell_type": "code",
   "execution_count": 48,
   "id": "d60c2273-63dc-4b1a-8caf-815ca45de1fe",
   "metadata": {},
   "outputs": [],
   "source": [
    "class_name=[\"Daisy\",\"Dandelion\",\"Rose\",\"Sunflower\",\"Tulip\"]\n",
    "pred_id=pred.argmax(axis=1)[0]"
   ]
  },
  {
   "cell_type": "code",
   "execution_count": 49,
   "id": "ba01214c-ee21-4036-aa8d-d92e25c07da6",
   "metadata": {},
   "outputs": [
    {
     "name": "stdout",
     "output_type": "stream",
     "text": [
      "Pridicted flower is  Sunflower\n"
     ]
    }
   ],
   "source": [
    "print(\"Pridicted flower is \",str(class_name[pred_id]))"
   ]
  },
  {
   "cell_type": "code",
   "execution_count": null,
   "id": "8e3349b4-5f9c-40c7-93f2-93422733566f",
   "metadata": {},
   "outputs": [],
   "source": []
  }
 ],
 "metadata": {
  "kernelspec": {
   "display_name": "Python 3 (ipykernel)",
   "language": "python",
   "name": "python3"
  },
  "language_info": {
   "codemirror_mode": {
    "name": "ipython",
    "version": 3
   },
   "file_extension": ".py",
   "mimetype": "text/x-python",
   "name": "python",
   "nbconvert_exporter": "python",
   "pygments_lexer": "ipython3",
   "version": "3.9.12"
  }
 },
 "nbformat": 4,
 "nbformat_minor": 5
}
